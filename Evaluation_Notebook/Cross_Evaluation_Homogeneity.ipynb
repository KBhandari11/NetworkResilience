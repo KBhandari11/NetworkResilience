{
 "cells": [
  {
   "cell_type": "code",
   "execution_count": 4,
   "id": "f74a9a91",
   "metadata": {},
   "outputs": [
    {
     "data": {
      "text/plain": [
       "True"
      ]
     },
     "execution_count": 4,
     "metadata": {},
     "output_type": "execute_result"
    }
   ],
   "source": [
    "import wandb\n",
    "import os\n",
    "os.environ['WANDB_NOTEBOOK_NAME'] = './Training_CIConv_BA_Graph'\n",
    "wandb.login()"
   ]
  },
  {
   "cell_type": "code",
   "execution_count": 5,
   "id": "eb84cd98",
   "metadata": {},
   "outputs": [],
   "source": [
    "import os\n",
    "import numpy as np\n",
    "import matplotlib.pyplot as plt\n",
    "import matplotlib as mpl\n",
    "import random\n",
    "import copy\n",
    "import networkx as nx\n",
    "import torch\n",
    "from utils.environment.CIgame import GraphGame\n",
    "from open_spiel.python.algorithms import random_agent\n",
    "from tqdm import tqdm\n",
    "\n",
    "import sys\n",
    "sys.path.append(\"../\")\n",
    "#from utils.reinforcement_learning.dqn_HD import DQN\n",
    "from utils.reinforcement_learning.dqn import DQN\n",
    "from utils.params import Params\n",
    "from utils.evaluation.evaluationhelper import EvaluateModel\n",
    "from utils.validation import get_Validation, area_under_curve\n",
    "from utils.reinforcement_learning.CIGraphNN import CIGraphNN\n",
    "from utils.environment.envhelper import reset\n",
    "from utils.reinforcement_learning.rl_environment import Environment\n",
    "\n",
    "def input_graph(graph_path,file):\n",
    "    fh = open(graph_path+str(file)+\".txt\", \"rb\")\n",
    "    GRAPH = nx.read_edgelist(fh)\n",
    "    fh.close()\n",
    "    nodes = GRAPH.nodes()\n",
    "    map = {n:int(i) for i, n in enumerate(nodes)}\n",
    "    GRAPH = reset(nx.relabel_nodes(GRAPH, map))   \n",
    "    return GRAPH\n",
    "\n",
    "def CV_evaluation(graph_path, model_path,filename, parameter_path):  \n",
    "    params = Params(parameter_path)\n",
    "    _NUM_PLAYERS = 2\n",
    "    file_list = []\n",
    "    AUC = []\n",
    "    x_label = []\n",
    "    start = int(params.save_every)\n",
    "    end = int(params.num_train_episodes)+start\n",
    "    interval = int(params.save_every)\n",
    "    for iteration in np.arange(start,end,interval):\n",
    "        name = model_path+str(iteration)\n",
    "        loading_attacker = torch.load(name)\n",
    "        auc_individual = []\n",
    "        for file in filename:\n",
    "            GRAPH = input_graph(graph_path,file)\n",
    "            N = len(GRAPH)\n",
    "            game = \"graph_attack_defend\"\n",
    "            env = Environment(game)\n",
    "            num_actions = env.action_spec()[\"num_actions\"]\n",
    "            attacker = DQN(player_id=0,\n",
    "                            state_representation_size=params.centrality_features,\n",
    "                            hidden_layers_sizes= params.hidden_layers,\n",
    "                           global_feature_size =params.global_features,\n",
    "                           num_actions=num_actions)\n",
    "            attacker._q_network.load_state_dict(loading_attacker[\"_q_network\"])\n",
    "            attacker._optimizer.load_state_dict(loading_attacker[\"_optimizer\"])\n",
    "            agents = [attacker,attacker]\n",
    "            rewards, lcc, actions = EvaluateModel(env,agents,GRAPH)\n",
    "            #Compute Area under the curve\n",
    "            x =  np.flip(np.arange(N)[N:0:-1]/N)\n",
    "            auc_individual.append(area_under_curve(x[:len(lcc)],lcc))\n",
    "        AUC.append(np.mean(auc_individual))\n",
    "        x_label.append(iteration)\n",
    "    AUC = np.array(AUC)\n",
    "    x_label = np.array(x_label)\n",
    "    return x_label, AUC"
   ]
  },
  {
   "cell_type": "markdown",
   "id": "0562508d",
   "metadata": {},
   "source": [
    "# Results"
   ]
  },
  {
   "cell_type": "code",
   "execution_count": 13,
   "id": "dfeaf5d5",
   "metadata": {},
   "outputs": [
    {
     "name": "stderr",
     "output_type": "stream",
     "text": [
      "100%|██████████| 1/1 [27:45<00:00, 1665.47s/it]\n"
     ]
    }
   ],
   "source": [
    "model_path = [\"../model/CI_BA_Graph/model_BAGraph_\"]\n",
    "parameters = [\"../utils/CI_ba_params.json\"]\n",
    "results = []\n",
    "for path in tqdm(range(1)):\n",
    "    graph_path =\"../Dataset/HomogeneityGraph/\"\n",
    "    filename = ['homogeneous_' + str(i) for i in [30,50,100,500]]\n",
    "    x, homogeneous = CV_evaluation(graph_path,model_path[path],filename,parameters[path])\n",
    "    filename = ['heterogeneous_' + str(i) for i in  [30,50,100,500]]\n",
    "    x,heterogeneous = CV_evaluation(graph_path,model_path[path],filename,parameters[path])\n",
    "    results.append([homogeneous,heterogeneous])"
   ]
  },
  {
   "cell_type": "code",
   "execution_count": 14,
   "id": "00447afb",
   "metadata": {},
   "outputs": [
    {
     "name": "stdout",
     "output_type": "stream",
     "text": [
      "(1, 2, 1000)\n",
      "BA Graph\n",
      "271500\n",
      "(33000, 13000)\n"
     ]
    }
   ],
   "source": [
    "def lowest_AUC(x, CV_homo, CV_hetero):\n",
    "    cond =True\n",
    "    while cond:\n",
    "        homog = np.argmin(CV_homo)\n",
    "        heterog = np.argmin(CV_hetero)\n",
    "        if homog != heterog:\n",
    "            CV_homo = np.delete(CV_homo, homog)\n",
    "            CV_hetero = np.delete(CV_hetero, heterog)\n",
    "            x = np.delete(x, homog)\n",
    "        else:\n",
    "            return x[homog]\n",
    "        \n",
    "def lowest_AUC_each(x, CV_homo, CV_hetero):\n",
    "    homog = np.argmin(CV_homo)\n",
    "    heterog = np.argmin(CV_hetero)\n",
    "    return x[homog], x[heterog]\n",
    "        \n",
    "results = np.array(results)\n",
    "save_every= 500            \n",
    "num_train_episodes = int(5e5) \n",
    "x = np.arange(500,num_train_episodes+save_every,save_every)\n",
    "print(results.shape)\n",
    "print(\"BA Graph\")\n",
    "print(lowest_AUC(x, results[0,0,0:int(num_train_episodes/save_every)], results[0,1,0:int(num_train_episodes/save_every)]))\n",
    "print(lowest_AUC_each(x, results[0,0,0:int(num_train_episodes/save_every)], results[0,1,0:int(num_train_episodes/save_every)]))\n",
    "\n",
    "\n"
   ]
  },
  {
   "cell_type": "code",
   "execution_count": 15,
   "id": "4fe206cb",
   "metadata": {},
   "outputs": [
    {
     "name": "stdout",
     "output_type": "stream",
     "text": [
      "Homogeneous_BA\n"
     ]
    },
    {
     "data": {
      "image/png": "[encoded data removed]",
      "text/plain": [
       "<Figure size 432x288 with 1 Axes>"
      ]
     },
     "metadata": {
      "needs_background": "light"
     },
     "output_type": "display_data"
    },
    {
     "name": "stdout",
     "output_type": "stream",
     "text": [
      "Heterogeneous_BA\n"
     ]
    },
    {
     "data": {
      "image/png": "[encoded data removed]",
      "text/plain": [
       "<Figure size 432x288 with 1 Axes>"
      ]
     },
     "metadata": {
      "needs_background": "light"
     },
     "output_type": "display_data"
    },
    {
     "data": {
      "image/png": "[encoded data removed]",
      "text/plain": [
       "<Figure size 432x288 with 1 Axes>"
      ]
     },
     "metadata": {
      "needs_background": "light"
     },
     "output_type": "display_data"
    }
   ],
   "source": [
    "for i in range(1):\n",
    "    for j in range(2):\n",
    "        if j == 0:\n",
    "            color = 'blue'\n",
    "            label = 'Homogeneous'\n",
    "            inv = 'red'\n",
    "        else:\n",
    "            color = 'red'\n",
    "            label = 'Heterogeneous'\n",
    "            inv = 'blue'\n",
    "        if i == 0:\n",
    "            name = \"(Trained Attacker [BA Model])\"\n",
    "            save = \"BA\"\n",
    "        else:\n",
    "            name = \"(Trained Attacker [Mixed Model])\"\n",
    "            save = \"Diff\"\n",
    "        min_value = np.argmin(results[i,j,0:int(num_train_episodes/save_every)])\n",
    "        #print(x[np.argsort(results[i,j,0:int(num_train_episodes/save_every)])])\n",
    "        #print(x[np.argsort(results[i,j,0:int(num_train_episodes/save_every)])])\n",
    "        min_vc = x[min_value]\n",
    "        plt.plot(x, results[i,j,0:int(num_train_episodes/save_every)], color)\n",
    "        plt.plot(min_vc, results[i,j,min_value], marker=\"o\", markersize=5, markeredgecolor=inv, markerfacecolor=\"None\",label=\"Min: \"+str(min_vc))\n",
    "        plt.title(\"AUC of LCC vs Nodes Plot \"+\"\"+str(name))\n",
    "        plt.legend()\n",
    "        print(label+\"_\"+save)\n",
    "        plt.savefig(\"./Figure/eval_\"+label+\"_\"+save)\n",
    "        plt.show()\n",
    "sum_both = np.mean([results[0,0,0:int(num_train_episodes/save_every)],results[0,1,0:int(num_train_episodes/save_every)]],axis=0)\n",
    "plt.plot(x, sum_both, color='green',label='Sum of Both')\n",
    "min_value = np.argmin(sum_both)\n",
    "min_vc = x[min_value]\n",
    "plt.plot(min_vc, sum_both[min_value], marker=\"o\", markersize=5, markeredgecolor='orange', markerfacecolor=\"None\",label=\"Min: \"+str(min_vc))\n",
    "plt.title('Trained Attacker [BA Model]')\n",
    "plt.legend()\n",
    "plt.savefig(\"./Figure/eval_Homogenity_BA\")"
   ]
  }
 ],
 "metadata": {
  "kernelspec": {
   "display_name": "Python 3.8.12 ('base')",
   "language": "python",
   "name": "python3"
  },
  "language_info": {
   "codemirror_mode": {
    "name": "ipython",
    "version": 3
   },
   "file_extension": ".py",
   "mimetype": "text/x-python",
   "name": "python",
   "nbconvert_exporter": "python",
   "pygments_lexer": "ipython3",
   "version": "3.8.12"
  },
  "vscode": {
   "interpreter": {
    "hash": "3bc6126917314472152fc6dd6d9a154abac8354a08db327584229a9c32d69d1d"
   }
  }
 },
 "nbformat": 4,
 "nbformat_minor": 5
}
